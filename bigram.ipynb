{
 "cells": [
  {
   "cell_type": "code",
   "execution_count": 32,
   "id": "40ab3a6d-004a-4091-82dc-39723fd70ec0",
   "metadata": {},
   "outputs": [
    {
     "name": "stdout",
     "output_type": "stream",
     "text": [
      "cpu\n"
     ]
    }
   ],
   "source": [
    "import torch\n",
    "import torch.nn as nn\n",
    "from torch.nn import functional as F\n",
    "device = 'cuda' if torch.cuda.is_available() else 'cpu'\n",
    "print(device)\n",
    "block_size = 8\n",
    "batch_size = 4\n",
    "max_iters = 10000\n",
    "learning_rate = 3e-4\n",
    "eval_iters = 250"
   ]
  },
  {
   "cell_type": "code",
   "execution_count": 33,
   "id": "eb572c9c-02f3-40e4-abdd-fde542e6bbb8",
   "metadata": {},
   "outputs": [
    {
     "name": "stdout",
     "output_type": "stream",
     "text": [
      "['\\n', ' ', '!', '\"', '&', \"'\", '(', ')', '*', ',', '-', '.', '0', '1', '2', '3', '4', '5', '6', '7', '8', '9', ':', ';', '?', 'A', 'B', 'C', 'D', 'E', 'F', 'G', 'H', 'I', 'J', 'K', 'L', 'M', 'N', 'O', 'P', 'Q', 'R', 'S', 'T', 'U', 'V', 'W', 'X', 'Y', 'Z', '[', ']', '_', 'a', 'b', 'c', 'd', 'e', 'f', 'g', 'h', 'i', 'j', 'k', 'l', 'm', 'n', 'o', 'p', 'q', 'r', 's', 't', 'u', 'v', 'w', 'x', 'y', 'z', '\\ufeff']\n"
     ]
    }
   ],
   "source": [
    "with open('wizard_of_oz.txt','r', encoding = 'utf-8') as f:\n",
    "    text = f.read()\n",
    "chars = sorted(set(text))\n",
    "vocab_size = len(chars)\n",
    "print(chars)"
   ]
  },
  {
   "cell_type": "code",
   "execution_count": 34,
   "id": "ad39d39c-f934-4a77-837f-f4a9a2a71fe8",
   "metadata": {},
   "outputs": [
    {
     "name": "stdout",
     "output_type": "stream",
     "text": [
      "tensor([80,  1, 28, 39, 42, 39, 44, 32, 49,  1, 25, 38, 28,  1, 44, 32, 29,  1,\n",
      "        47, 33, 50, 25, 42, 28,  1, 33, 38,  1, 39, 50,  0,  0,  1,  1, 26, 49,\n",
      "         0,  0,  1,  1, 36, 11,  1, 30, 42, 25, 38, 35,  1, 26, 25, 45, 37,  0,\n",
      "         0,  1,  1, 25, 45, 44, 32, 39, 42,  1, 39, 30,  1, 44, 32, 29,  1, 47,\n",
      "        33, 50, 25, 42, 28,  1, 39, 30,  1, 39, 50,  9,  1, 44, 32, 29,  1, 36,\n",
      "        25, 38, 28,  1, 39, 30,  1, 39, 50,  9])\n"
     ]
    }
   ],
   "source": [
    "string_to_int = {ch:i for i,ch in enumerate(chars)}\n",
    "int_to_str = {i:ch for i, ch in enumerate(chars) }\n",
    "encode = lambda s: [string_to_int[c] for c in s]\n",
    "decode = lambda l: ''.join([int_to_str[i] for i in l])\n",
    "encoded_hello=encode('hello')\n",
    "decoded_hello=decode(encoded_hello)\n",
    "\n",
    "data = torch.tensor(encode(text), dtype=torch.long)\n",
    "\n",
    "print(data[:100])"
   ]
  },
  {
   "cell_type": "code",
   "execution_count": 35,
   "id": "11a8513d-1a90-465c-8726-12457e08904a",
   "metadata": {},
   "outputs": [],
   "source": [
    "n = int(0.8 * len(data))\n",
    "train_data = data[:n]\n",
    "val_data = data[n:]"
   ]
  },
  {
   "cell_type": "code",
   "execution_count": 36,
   "id": "085c76c9-d980-4072-8588-13f4a8df68f0",
   "metadata": {},
   "outputs": [
    {
     "name": "stdout",
     "output_type": "stream",
     "text": [
      "train_data: tensor([80,  1, 28, 39, 42, 39, 44, 32, 49])\n",
      "when input is tensor([80]) target is tensor(1)\n",
      "when input is tensor([80,  1]) target is tensor(28)\n",
      "when input is tensor([80,  1, 28]) target is tensor(39)\n",
      "when input is tensor([80,  1, 28, 39]) target is tensor(42)\n",
      "when input is tensor([80,  1, 28, 39, 42]) target is tensor(39)\n",
      "when input is tensor([80,  1, 28, 39, 42, 39]) target is tensor(44)\n",
      "when input is tensor([80,  1, 28, 39, 42, 39, 44]) target is tensor(32)\n",
      "when input is tensor([80,  1, 28, 39, 42, 39, 44, 32]) target is tensor(49)\n"
     ]
    }
   ],
   "source": [
    "block_size = 8\n",
    "x = train_data[:block_size]\n",
    "y = train_data[1: block_size +1]\n",
    "print ('train_data: ' + str(train_data[:block_size+1]))\n",
    "for i in range(block_size):\n",
    "    context = x[:i+1]\n",
    "    target=y[i]\n",
    "    print('when input is', context, 'target is', target)"
   ]
  },
  {
   "cell_type": "code",
   "execution_count": 37,
   "id": "25c2e26d-5e9a-44c7-8059-3dd75a7f74b3",
   "metadata": {},
   "outputs": [
    {
     "name": "stdout",
     "output_type": "stream",
     "text": [
      "inputs: \n",
      "tensor([[67,  1, 73, 61, 58,  1, 76, 68],\n",
      "        [73, 61, 71, 68, 74, 60, 61,  1],\n",
      "        [65, 11,  1, 44, 61, 58, 67,  1],\n",
      "        [74, 73,  1, 54, 72,  1, 76, 62]])\n",
      "targets: \n",
      "tensor([[ 1, 73, 61, 58,  1, 76, 68, 68],\n",
      "        [61, 71, 68, 74, 60, 61,  1, 62],\n",
      "        [11,  1, 44, 61, 58, 67,  1, 61],\n",
      "        [73,  1, 54, 72,  1, 76, 62, 57]])\n"
     ]
    }
   ],
   "source": [
    "def get_batch(split):\n",
    "    data = train_data if split == 'train' else val_data\n",
    "    ix = torch.randint(len(data) - block_size, (batch_size,))\n",
    "    x=torch.stack([data[i:i+block_size] for i in ix])\n",
    "    y = torch.stack([data[i+1:i+block_size+1] for i in ix])\n",
    "    x,y = x.to(device), y.to(device)\n",
    "    return x, y\n",
    "x, y = get_batch('train')\n",
    "print('inputs: ')\n",
    "print(x)\n",
    "print('targets: ')\n",
    "print(y)"
   ]
  },
  {
   "cell_type": "code",
   "execution_count": 38,
   "id": "2c874259-3a1c-471f-8968-b2e924e9a081",
   "metadata": {},
   "outputs": [],
   "source": [
    "@torch.no_grad()\n",
    "def estimate_loss():\n",
    "    out = {}\n",
    "    model.eval()\n",
    "    for split in ['train', 'val']:\n",
    "        losses = torch.zeros(eval_iters)\n",
    "        for k in range(eval_iters):\n",
    "            X, Y = get_batch(split)\n",
    "            logits, loss = model(X, Y)\n",
    "            losses[k] = loss.item()\n",
    "        out[split] = losses.mean()\n",
    "    model.train()\n",
    "    return out"
   ]
  },
  {
   "cell_type": "code",
   "execution_count": 39,
   "id": "0f3402aa-61b5-4762-bd2c-0055c526a174",
   "metadata": {},
   "outputs": [
    {
     "name": "stdout",
     "output_type": "stream",
     "text": [
      "\n",
      "_sb7J:LLsS,b8agScR;00zcokPtY:_BGHX,\"RGsVKBTu:ppM) w7Q0a9][gkx.ljw2pI)j['3xSI(tUw_*xXmj5:O!7;M]GQ]\n",
      "9VujF-MRT7&PkF\n",
      "?n'39Z_j]Z*xhh ;jK-L1IERX9RRTvhp(Zu(IrK(eCjPRw7gse3LT_:pjaZ*h\"J b1[NRJ,-tP4m?\n",
      "9sR!!R7UkSl:[pAh\n",
      "(4Lm4Ue55PerZ0)'8Cfyee3zDjpmfJlnxavEdS_a;V-OycL7[&8h1T6qRuW.P5dN!qmMqJ0BpdpV:OIE[mV-(MFR?cc-WHfKsD[Zutlnm;NU﻿Nag1m&MV-BtE[\n",
      "?l:x6\"Fwz-WIn﻿l??lr?qNB&\n",
      "2M)drhpIQ(0qrLPD0GVUhum1lo_n0&7gTt.tibD1l﻿o'&?lx2*f57j[w\"ZKhFyp;!RJ﻿;76qxW:Dz[Yor*QF]fI0V-c'hNQw[zH?lhw1JGRTucgjJ,;SxND1D,Ra wi6Avye3rxqj Tb*XCg\n"
     ]
    }
   ],
   "source": [
    "class BigramLanguageModel(nn.Module):\n",
    "    def __init__(self, vocab_size):\n",
    "        super().__init__()\n",
    "        self.token_embedding_table = nn.Embedding(vocab_size, vocab_size)\n",
    "\n",
    "    def forward(self, index, targets = None):\n",
    "        logits = self.token_embedding_table(index)\n",
    "\n",
    "        if targets is None:\n",
    "            loss = None\n",
    "        else:\n",
    "            B, T, C = logits.shape\n",
    "            logits = logits.view(B*T, C)\n",
    "            targets = targets.view(B*T)\n",
    "            loss = F.cross_entropy(logits, targets)\n",
    "            \n",
    "        return logits, loss\n",
    "\n",
    "    def generate(self, index, max_new_tokens):\n",
    "        # index is (B, T) array of indices in the current context\n",
    "        for _ in range(max_new_tokens):\n",
    "            #get predictions\n",
    "            logits, loss = self.forward(index)\n",
    "            # focus only on the last time step\n",
    "            logits = logits[:, -1, :] # becomes (B,C)\n",
    "            # apply softmax to get probabilities\n",
    "            probs = F.softmax(logits, dim=-1) # (B, C)\n",
    "            # sample from the distribution\n",
    "            index_next = torch.multinomial(probs, num_samples=1) # (B, 1)\n",
    "            # append sampled index to the running sequence\n",
    "            index = torch.cat((index, index_next), dim=-1) # (B, T+1)\n",
    "        return index\n",
    "\n",
    "model = BigramLanguageModel(vocab_size)\n",
    "m = model.to(device)\n",
    "\n",
    "context = torch.zeros((1,1), dtype=torch.long, device=device)\n",
    "generated_chars = decode(m.generate(context, max_new_tokens=500)[0].tolist())\n",
    "print(generated_chars)\n",
    "\n",
    "        "
   ]
  },
  {
   "cell_type": "code",
   "execution_count": 53,
   "id": "493924bc-1f29-4afd-b614-ddf54abe2cc0",
   "metadata": {},
   "outputs": [
    {
     "name": "stdout",
     "output_type": "stream",
     "text": [
      "step: 0, train loss: 2.5300, val loss: 2.5452\n",
      "step: 250, train loss: 2.5067, val loss: 2.5511\n",
      "step: 500, train loss: 2.5244, val loss: 2.5642\n",
      "step: 750, train loss: 2.5449, val loss: 2.5733\n",
      "step: 1000, train loss: 2.5072, val loss: 2.5671\n",
      "step: 1250, train loss: 2.5028, val loss: 2.5427\n",
      "step: 1500, train loss: 2.4630, val loss: 2.5329\n",
      "step: 1750, train loss: 2.5039, val loss: 2.5811\n",
      "step: 2000, train loss: 2.5055, val loss: 2.5334\n",
      "step: 2250, train loss: 2.4948, val loss: 2.5622\n",
      "step: 2500, train loss: 2.5087, val loss: 2.5404\n",
      "step: 2750, train loss: 2.4940, val loss: 2.5371\n",
      "step: 3000, train loss: 2.5126, val loss: 2.5335\n",
      "step: 3250, train loss: 2.5070, val loss: 2.5443\n",
      "step: 3500, train loss: 2.4784, val loss: 2.5385\n",
      "step: 3750, train loss: 2.4817, val loss: 2.5325\n",
      "step: 4000, train loss: 2.4900, val loss: 2.5456\n",
      "step: 4250, train loss: 2.4950, val loss: 2.5709\n",
      "step: 4500, train loss: 2.4914, val loss: 2.5080\n",
      "step: 4750, train loss: 2.4854, val loss: 2.5308\n",
      "step: 5000, train loss: 2.4546, val loss: 2.5373\n",
      "step: 5250, train loss: 2.5164, val loss: 2.5271\n",
      "step: 5500, train loss: 2.4671, val loss: 2.5215\n",
      "step: 5750, train loss: 2.4583, val loss: 2.5205\n",
      "step: 6000, train loss: 2.4783, val loss: 2.5243\n",
      "step: 6250, train loss: 2.4491, val loss: 2.5126\n",
      "step: 6500, train loss: 2.4811, val loss: 2.5212\n",
      "step: 6750, train loss: 2.4918, val loss: 2.5172\n",
      "step: 7000, train loss: 2.4875, val loss: 2.5112\n",
      "step: 7250, train loss: 2.4730, val loss: 2.5521\n",
      "step: 7500, train loss: 2.4782, val loss: 2.5001\n",
      "step: 7750, train loss: 2.4626, val loss: 2.5112\n",
      "step: 8000, train loss: 2.5033, val loss: 2.5199\n",
      "step: 8250, train loss: 2.4626, val loss: 2.5431\n",
      "step: 8500, train loss: 2.4674, val loss: 2.5072\n",
      "step: 8750, train loss: 2.4810, val loss: 2.5272\n",
      "step: 9000, train loss: 2.4472, val loss: 2.5042\n",
      "step: 9250, train loss: 2.4513, val loss: 2.5104\n",
      "step: 9500, train loss: 2.4591, val loss: 2.5053\n",
      "step: 9750, train loss: 2.4352, val loss: 2.5072\n",
      "2.7183940410614014\n"
     ]
    }
   ],
   "source": [
    "# Create a PyTorch optimizer\n",
    "optimizer = torch.optim.Adam(model.parameters(), lr=learning_rate)\n",
    "\n",
    "for iter in range(max_iters):\n",
    "    if iter % eval_iters == 0:\n",
    "        losses = estimate_loss()\n",
    "        print(f'step: {iter}, train loss: {losses[\"train\"]:.4f}, val loss: {losses[\"val\"]:.4f}')\n",
    "\n",
    "    #sample a batch of data\n",
    "    xb, yb = get_batch('train')\n",
    "\n",
    "    # evaluate the loss\n",
    "    logits, loss = model.forward(xb, yb)\n",
    "    optimizer.zero_grad(set_to_none = True)\n",
    "    loss.backward()\n",
    "    optimizer.step()\n",
    "print(loss.item())"
   ]
  },
  {
   "cell_type": "code",
   "execution_count": 54,
   "id": "05e4995d-94d1-43c6-b548-5254e063b2d7",
   "metadata": {},
   "outputs": [
    {
     "name": "stdout",
     "output_type": "stream",
     "text": [
      "\n",
      "Tho grfowin'de ilo w f\n",
      "tusprey s, the trems fl theableskertin wey aiz*whe od gith, ind thakincu\n",
      "\n",
      "\"C9h  ore hee un, ofur, rindidnoncathiead satulethe mad tly.\n",
      "\"DXcker m\n",
      "tizma nount.\n",
      "\"To wl und thed wains plwandrul?F cond hyitlknsteat  sea t  slllyerefooryontureruborouram.]-ayoroup, inthe t ghom re sieng\n",
      "d anhe bow hin sederaloung, hy t,\"YBlise ore the, t ty.\n",
      "e t thehean'tal he med\n",
      "k byo\n",
      "FRulyord ponn e it-BORDotint a the ow om.\"HTR!RDugr;Vq, be s her wean houlilo whery ry therin taid\n",
      "llor?Afrath,\n"
     ]
    }
   ],
   "source": [
    "context = torch.zeros((1, 1), dtype=torch.long, device=device)\n",
    "generated_chars = decode(m.generate(context, max_new_tokens=500)[0].tolist())\n",
    "print(generated_chars)"
   ]
  },
  {
   "cell_type": "code",
   "execution_count": null,
   "id": "c8ee413c-108a-428a-9569-6df9884eab23",
   "metadata": {},
   "outputs": [],
   "source": []
  }
 ],
 "metadata": {
  "kernelspec": {
   "display_name": "'cuda-gpt'",
   "language": "python",
   "name": "cuda"
  },
  "language_info": {
   "codemirror_mode": {
    "name": "ipython",
    "version": 3
   },
   "file_extension": ".py",
   "mimetype": "text/x-python",
   "name": "python",
   "nbconvert_exporter": "python",
   "pygments_lexer": "ipython3",
   "version": "3.11.5"
  }
 },
 "nbformat": 4,
 "nbformat_minor": 5
}
